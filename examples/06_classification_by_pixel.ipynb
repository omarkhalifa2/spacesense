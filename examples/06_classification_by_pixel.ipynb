{
 "cells": [
  {
   "cell_type": "code",
   "execution_count": 2,
   "metadata": {},
   "outputs": [],
   "source": [
    "import os\n",
    "os.chdir('/home/jyotsna/src/spacesense')\n",
    "import spacesense\n",
    "from glob import glob\n",
    "import time\n",
    "from spacesense import datasets, utils\n",
    "from spacesense import training_data\n",
    "from spacesense import classification as cm \n",
    "import numpy as np"
   ]
  },
  {
   "cell_type": "code",
   "execution_count": 3,
   "metadata": {},
   "outputs": [
    {
     "name": "stdout",
     "output_type": "stream",
     "text": [
      "Forest data loaded\n",
      "time taken: 1 seconds\n",
      "x.shape:  (12288000, 13) y.shape:  (12288000,)\n",
      "Industrial data loaded\n",
      "time taken: 1 seconds\n",
      "x.shape:  (10240000, 13) y.shape:  (10240000,)\n"
     ]
    }
   ],
   "source": [
    "eurosat = training_data.EuroSAT()\n",
    "X_forest,y_forest = eurosat.fetch_data(datatype='all_bands',labels=['Forest'],row_type='1D')\n",
    "X_ind,y_ind = eurosat.fetch_data(datatype='all_bands',labels=['Industrial'],row_type='1D')"
   ]
  },
  {
   "cell_type": "code",
   "execution_count": 4,
   "metadata": {},
   "outputs": [],
   "source": [
    "X = np.zeros((2000,13))\n",
    "y = np.zeros((2000,))\n",
    "X[:1000] = X_forest[:1000,:]\n",
    "y[:1000] = y_forest[:1000]\n",
    "X[1000:] = X_ind[:1000,:]\n",
    "y[1000:] = y_ind[:1000]"
   ]
  },
  {
   "cell_type": "code",
   "execution_count": 34,
   "metadata": {},
   "outputs": [],
   "source": [
    "cl = cm.by_pixel()"
   ]
  },
  {
   "cell_type": "code",
   "execution_count": 35,
   "metadata": {},
   "outputs": [
    {
     "name": "stdout",
     "output_type": "stream",
     "text": [
      "searching for optimal hyperparameters...\n",
      "Training metrics:\n",
      "Accuracy: 1.0\n",
      "[[ 98   0]\n",
      " [  0 102]]\n"
     ]
    }
   ],
   "source": [
    "cl.train(X,y,model_architecture=cm.SVC_by_pixel())"
   ]
  },
  {
   "cell_type": "code",
   "execution_count": null,
   "metadata": {},
   "outputs": [],
   "source": [
    "cl = cm.by_pixel()"
   ]
  },
  {
   "cell_type": "code",
   "execution_count": null,
   "metadata": {},
   "outputs": [],
   "source": [
    "cl2.train(X,y,model_architecture=cm.cnn_custom())"
   ]
  },
  {
   "cell_type": "code",
   "execution_count": null,
   "metadata": {},
   "outputs": [],
   "source": []
  }
 ],
 "metadata": {
  "kernelspec": {
   "display_name": "Python 3",
   "language": "python",
   "name": "python3"
  },
  "language_info": {
   "codemirror_mode": {
    "name": "ipython",
    "version": 3
   },
   "file_extension": ".py",
   "mimetype": "text/x-python",
   "name": "python",
   "nbconvert_exporter": "python",
   "pygments_lexer": "ipython3",
   "version": "3.6.8"
  }
 },
 "nbformat": 4,
 "nbformat_minor": 2
}
