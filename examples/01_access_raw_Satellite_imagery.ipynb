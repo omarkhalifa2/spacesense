{
 "cells": [
  {
   "cell_type": "markdown",
   "metadata": {},
   "source": [
    "# A Tutorial\n",
    "\n",
    "Here, we see how to do the basic retrival of satellite imagery from source"
   ]
  },
  {
   "cell_type": "code",
   "execution_count": 3,
   "metadata": {},
   "outputs": [],
   "source": [
    "import os\n",
    "os.chdir('../')"
   ]
  },
  {
   "cell_type": "code",
   "execution_count": 4,
   "metadata": {
    "ExecuteTime": {
     "end_time": "2019-07-10T16:13:49.923338Z",
     "start_time": "2019-07-10T16:13:47.707291Z"
    }
   },
   "outputs": [],
   "source": [
    "# Scientific libraries\n",
    "import numpy as np\n",
    "import scipy\n",
    "\n",
    "# Graphic libraries\n",
    "\n",
    "import matplotlib.pyplot as plt\n",
    "%matplotlib notebook\n",
    "\n",
    "import spacesense\n",
    "from spacesense.datasets import download_sentinel\n",
    "\n",
    "from datetime import date"
   ]
  },
  {
   "cell_type": "markdown",
   "metadata": {
    "ExecuteTime": {
     "end_time": "2019-07-10T16:20:23.313770Z",
     "start_time": "2019-07-10T16:20:22.930285Z"
    }
   },
   "source": [
    "## Downloading from sentinel\n"
   ]
  },
  {
   "cell_type": "markdown",
   "metadata": {},
   "source": [
    "create an account here: https://scihub.copernicus.eu/dhus\n"
   ]
  },
  {
   "cell_type": "code",
   "execution_count": 5,
   "metadata": {},
   "outputs": [
    {
     "data": {
      "text/plain": [
       "<spacesense.datasets.download_sentinel at 0x7f23a92fde80>"
      ]
     },
     "execution_count": 5,
     "metadata": {},
     "output_type": "execute_result"
    }
   ],
   "source": [
    "username = \"<your username>\"\n",
    "psswrd = \"<your password>\"\n",
    "d = download_sentinel(username, psswrd)\n",
    "d"
   ]
  },
  {
   "cell_type": "code",
   "execution_count": 6,
   "metadata": {},
   "outputs": [],
   "source": [
    "#Define Area of interest\n",
    "aoi = 'Paris-15.geojson'\n"
   ]
  },
  {
   "cell_type": "code",
   "execution_count": 11,
   "metadata": {},
   "outputs": [
    {
     "name": "stdout",
     "output_type": "stream",
     "text": [
      "3  products found\n"
     ]
    }
   ],
   "source": [
    "# make a  query for satellite imagery for AOI \n",
    "d.sentinel(roi_polygon=aoi,startdate=date(2015, 5, 1),enddate=date(2015, 12, 29),cloudcover_max=5)\n"
   ]
  },
  {
   "cell_type": "code",
   "execution_count": 12,
   "metadata": {},
   "outputs": [
    {
     "data": {
      "text/plain": [
       "('8ea65daa-41c9-47d3-b948-9d0e1e1a6d3d',\n",
       " {'beginposition': datetime.datetime(2015, 7, 6, 10, 50, 16, 27000),\n",
       "  'cloudcoverpercentage': 0.6254,\n",
       "  'datastripidentifier': 'S2A_OPER_MSI_L1C_DS_EPA__20160808T143500_S20150706T105351_N02.04',\n",
       "  'datatakesensingstart': datetime.datetime(2015, 7, 6, 10, 50, 16, 27000),\n",
       "  'endposition': datetime.datetime(2015, 7, 6, 10, 50, 16, 27000),\n",
       "  'filename': 'S2A_MSIL1C_20150706T105016_N0204_R051_T31UDQ_20150706T105351.SAFE',\n",
       "  'footprint': 'MULTIPOLYGON (((1.614272368185704 49.64443007346099, 1.641546225080212 48.6570207750582, 3.132551327123652 48.66495515183609, 3.135213595780942 49.652643868751746, 1.614272368185704 49.64443007346099)))',\n",
       "  'format': 'SAFE',\n",
       "  'gmlfootprint': '<gml:Polygon srsName=\"http://www.opengis.net/gml/srs/epsg.xml#4326\" xmlns:gml=\"http://www.opengis.net/gml\">\\n   <gml:outerBoundaryIs>\\n      <gml:LinearRing>\\n         <gml:coordinates>49.64443007346099,1.614272368185704 49.652643868751746,3.135213595780942 48.66495515183609,3.132551327123652 48.6570207750582,1.641546225080212 49.64443007346099,1.614272368185704</gml:coordinates>\\n      </gml:LinearRing>\\n   </gml:outerBoundaryIs>\\n</gml:Polygon>',\n",
       "  'granuleidentifier': 'S2A_OPER_MSI_L1C_TL_EPA__20160808T143500_A000191_T31UDQ_N02.04',\n",
       "  'hv_order_tileid': 'UQ31D',\n",
       "  'identifier': 'S2A_MSIL1C_20150706T105016_N0204_R051_T31UDQ_20150706T105351',\n",
       "  'ingestiondate': datetime.datetime(2019, 2, 4, 20, 14, 14, 118000),\n",
       "  'instrumentname': 'Multi-Spectral Instrument',\n",
       "  'instrumentshortname': 'MSI',\n",
       "  'level1cpdiidentifier': 'S2A_OPER_MSI_L1C_TL_EPA__20160808T143500_A000191_T31UDQ_N02.04',\n",
       "  'link': \"https://scihub.copernicus.eu/dhus/odata/v1/Products('8ea65daa-41c9-47d3-b948-9d0e1e1a6d3d')/$value\",\n",
       "  'link_alternative': \"https://scihub.copernicus.eu/dhus/odata/v1/Products('8ea65daa-41c9-47d3-b948-9d0e1e1a6d3d')/\",\n",
       "  'link_icon': \"https://scihub.copernicus.eu/dhus/odata/v1/Products('8ea65daa-41c9-47d3-b948-9d0e1e1a6d3d')/Products('Quicklook')/$value\",\n",
       "  'orbitdirection': 'DESCENDING',\n",
       "  'orbitnumber': 191,\n",
       "  'platformidentifier': '2015-028A',\n",
       "  'platformname': 'Sentinel-2',\n",
       "  'platformserialidentifier': 'Sentinel-2A',\n",
       "  'processingbaseline': '02.04',\n",
       "  'processinglevel': 'Level-1C',\n",
       "  'producttype': 'S2MSI1C',\n",
       "  'relativeorbitnumber': 51,\n",
       "  's2datatakeid': 'GS2A_20150706T105016_000191_N02.04',\n",
       "  'sensoroperationalmode': 'INS-NOBS',\n",
       "  'size': '810.84 MB',\n",
       "  'summary': 'Date: 2015-07-06T10:50:16.027Z, Instrument: MSI, Mode: , Satellite: Sentinel-2, Size: 810.84 MB',\n",
       "  'tileid': '31UDQ',\n",
       "  'title': 'S2A_MSIL1C_20150706T105016_N0204_R051_T31UDQ_20150706T105351',\n",
       "  'uuid': '8ea65daa-41c9-47d3-b948-9d0e1e1a6d3d'})"
      ]
     },
     "execution_count": 12,
     "metadata": {},
     "output_type": "execute_result"
    }
   ],
   "source": [
    "# display available product info\n",
    "d.list_products[0]"
   ]
  },
  {
   "cell_type": "code",
   "execution_count": null,
   "metadata": {},
   "outputs": [],
   "source": [
    "# download product(s) from available products\n",
    "d.download_files([d.list_products[0][0],d.list_products[1][0]],directory_path='data/')"
   ]
  },
  {
   "cell_type": "code",
   "execution_count": null,
   "metadata": {},
   "outputs": [],
   "source": []
  }
 ],
 "metadata": {
  "kernelspec": {
   "display_name": "Python 3",
   "language": "python",
   "name": "python3"
  },
  "language_info": {
   "codemirror_mode": {
    "name": "ipython",
    "version": 3
   },
   "file_extension": ".py",
   "mimetype": "text/x-python",
   "name": "python",
   "nbconvert_exporter": "python",
   "pygments_lexer": "ipython3",
   "version": "3.5.2"
  },
  "latex_envs": {
   "LaTeX_envs_menu_present": true,
   "autoclose": true,
   "autocomplete": false,
   "bibliofile": "biblio.bib",
   "cite_by": "apalike",
   "current_citInitial": 1,
   "eqLabelWithNumbers": true,
   "eqNumInitial": 1,
   "hotkeys": {
    "equation": "Ctrl-E",
    "itemize": "Ctrl-I"
   },
   "labels_anchors": false,
   "latex_user_defs": false,
   "report_style_numbering": false,
   "user_envs_cfg": false
  },
  "toc": {
   "base_numbering": 1,
   "nav_menu": {},
   "number_sections": true,
   "sideBar": true,
   "skip_h1_title": false,
   "title_cell": "Table of Contents",
   "title_sidebar": "Contents",
   "toc_cell": false,
   "toc_position": {},
   "toc_section_display": true,
   "toc_window_display": false
  },
  "varInspector": {
   "cols": {
    "lenName": 16,
    "lenType": 16,
    "lenVar": 40
   },
   "kernels_config": {
    "python": {
     "delete_cmd_postfix": "",
     "delete_cmd_prefix": "del ",
     "library": "var_list.py",
     "varRefreshCmd": "print(var_dic_list())"
    },
    "r": {
     "delete_cmd_postfix": ") ",
     "delete_cmd_prefix": "rm(",
     "library": "var_list.r",
     "varRefreshCmd": "cat(var_dic_list()) "
    }
   },
   "types_to_exclude": [
    "module",
    "function",
    "builtin_function_or_method",
    "instance",
    "_Feature"
   ],
   "window_display": false
  }
 },
 "nbformat": 4,
 "nbformat_minor": 2
}
